{
 "cells": [
  {
   "cell_type": "markdown",
   "source": [
    "# Categorização de notícias do mercado financeiro nas classes Petrobras, Vale ou Itaú (Parte 1): Pré-processamento"
   ],
   "metadata": {
    "collapsed": false
   },
   "id": "bcef6c5ef70a27b9"
  },
  {
   "cell_type": "markdown",
   "source": [
    "## Packages and Assets"
   ],
   "metadata": {
    "collapsed": false
   },
   "id": "29bf6a60239b4150"
  },
  {
   "cell_type": "code",
   "execution_count": 23,
   "outputs": [],
   "source": [
    "import pandas as pd\n",
    "import string\n",
    "import nltk\n",
    "import numpy as np"
   ],
   "metadata": {
    "collapsed": false,
    "ExecuteTime": {
     "end_time": "2023-12-02T01:13:13.678958900Z",
     "start_time": "2023-12-02T01:13:13.673030100Z"
    }
   },
   "id": "47977e6d330ffff2"
  },
  {
   "cell_type": "code",
   "execution_count": 24,
   "outputs": [
    {
     "data": {
      "text/plain": "                                                   title  \\\n0       IFIX fecha aos 2.811,53 pontos com alta de 0,40%   \n1      Nissan é acusada e Ghosn tem indiciamento por ...   \n2      Votação de projetos que miram alta dos combust...   \n3      Vendas dos títulos do Tesouro Direto caem 27,6...   \n4      Agenda do Dia: Petrobras; Yduqs; Oi; AES Tietê...   \n...                                                  ...   \n14404  MyCap tem três novas ações na carteira recomen...   \n14405  Futuros do minério de ferro registram perdas d...   \n14406  Ações para investir em dezembro: Modalmais esc...   \n14407  Indexados do Tesouro Direto apresentam queda n...   \n14408  Carrefour, Hapvida e SulAmérica entram na 1ª p...   \n\n                                                    tags  \\\n0      ['cotação do ifix', 'FII', 'FIIs', 'fundo de i...   \n1                           ['Fraudes', 'internacional']   \n2      ['Combustíveis', 'ICMS', 'Inflação', 'Petrobra...   \n3                 ['Tesouro Direto', 'Tesouro Nacional']   \n4      ['AES Tietê (TIET3/TIET4/TIET11)', 'agenda do ...   \n...                                                  ...   \n14404  ['Ações', 'B3', 'BR Malls', 'Carteira Recomend...   \n14405  ['China', 'Commodities', 'Minério de ferro', '...   \n14406  ['ABC Brasil', 'Ações', 'Banco do Brasil', 'Ca...   \n14407  ['Tesouro Direto', 'Tesouro Nacional', 'títulos']   \n14408  ['B3', 'Bradesco', 'Carrefour', 'Comprar ou ve...   \n\n                                                    link  label  \n0      https://www.sunoresearch.com.br/noticias/ifix-...      0  \n1      https://www.sunoresearch.com.br/noticias/ghosn...      0  \n2      https://www.moneytimes.com.br/votacao-de-proje...      1  \n3      https://www.sunoresearch.com.br/noticias/venda...      0  \n4      https://www.suno.com.br/noticias/agenda-do-dia...      1  \n...                                                  ...    ...  \n14404  https://www.moneytimes.com.br/mycap-tem-tres-n...      1  \n14405  https://www.moneytimes.com.br/futuros-do-miner...      2  \n14406  https://www.moneytimes.com.br/acoes-para-inves...      2  \n14407  https://www.sunoresearch.com.br/noticias/index...      0  \n14408  https://www.moneytimes.com.br/carrefour-hapvid...      2  \n\n[14409 rows x 4 columns]",
      "text/html": "<div>\n<style scoped>\n    .dataframe tbody tr th:only-of-type {\n        vertical-align: middle;\n    }\n\n    .dataframe tbody tr th {\n        vertical-align: top;\n    }\n\n    .dataframe thead th {\n        text-align: right;\n    }\n</style>\n<table border=\"1\" class=\"dataframe\">\n  <thead>\n    <tr style=\"text-align: right;\">\n      <th></th>\n      <th>title</th>\n      <th>tags</th>\n      <th>link</th>\n      <th>label</th>\n    </tr>\n  </thead>\n  <tbody>\n    <tr>\n      <th>0</th>\n      <td>IFIX fecha aos 2.811,53 pontos com alta de 0,40%</td>\n      <td>['cotação do ifix', 'FII', 'FIIs', 'fundo de i...</td>\n      <td>https://www.sunoresearch.com.br/noticias/ifix-...</td>\n      <td>0</td>\n    </tr>\n    <tr>\n      <th>1</th>\n      <td>Nissan é acusada e Ghosn tem indiciamento por ...</td>\n      <td>['Fraudes', 'internacional']</td>\n      <td>https://www.sunoresearch.com.br/noticias/ghosn...</td>\n      <td>0</td>\n    </tr>\n    <tr>\n      <th>2</th>\n      <td>Votação de projetos que miram alta dos combust...</td>\n      <td>['Combustíveis', 'ICMS', 'Inflação', 'Petrobra...</td>\n      <td>https://www.moneytimes.com.br/votacao-de-proje...</td>\n      <td>1</td>\n    </tr>\n    <tr>\n      <th>3</th>\n      <td>Vendas dos títulos do Tesouro Direto caem 27,6...</td>\n      <td>['Tesouro Direto', 'Tesouro Nacional']</td>\n      <td>https://www.sunoresearch.com.br/noticias/venda...</td>\n      <td>0</td>\n    </tr>\n    <tr>\n      <th>4</th>\n      <td>Agenda do Dia: Petrobras; Yduqs; Oi; AES Tietê...</td>\n      <td>['AES Tietê (TIET3/TIET4/TIET11)', 'agenda do ...</td>\n      <td>https://www.suno.com.br/noticias/agenda-do-dia...</td>\n      <td>1</td>\n    </tr>\n    <tr>\n      <th>...</th>\n      <td>...</td>\n      <td>...</td>\n      <td>...</td>\n      <td>...</td>\n    </tr>\n    <tr>\n      <th>14404</th>\n      <td>MyCap tem três novas ações na carteira recomen...</td>\n      <td>['Ações', 'B3', 'BR Malls', 'Carteira Recomend...</td>\n      <td>https://www.moneytimes.com.br/mycap-tem-tres-n...</td>\n      <td>1</td>\n    </tr>\n    <tr>\n      <th>14405</th>\n      <td>Futuros do minério de ferro registram perdas d...</td>\n      <td>['China', 'Commodities', 'Minério de ferro', '...</td>\n      <td>https://www.moneytimes.com.br/futuros-do-miner...</td>\n      <td>2</td>\n    </tr>\n    <tr>\n      <th>14406</th>\n      <td>Ações para investir em dezembro: Modalmais esc...</td>\n      <td>['ABC Brasil', 'Ações', 'Banco do Brasil', 'Ca...</td>\n      <td>https://www.moneytimes.com.br/acoes-para-inves...</td>\n      <td>2</td>\n    </tr>\n    <tr>\n      <th>14407</th>\n      <td>Indexados do Tesouro Direto apresentam queda n...</td>\n      <td>['Tesouro Direto', 'Tesouro Nacional', 'títulos']</td>\n      <td>https://www.sunoresearch.com.br/noticias/index...</td>\n      <td>0</td>\n    </tr>\n    <tr>\n      <th>14408</th>\n      <td>Carrefour, Hapvida e SulAmérica entram na 1ª p...</td>\n      <td>['B3', 'Bradesco', 'Carrefour', 'Comprar ou ve...</td>\n      <td>https://www.moneytimes.com.br/carrefour-hapvid...</td>\n      <td>2</td>\n    </tr>\n  </tbody>\n</table>\n<p>14409 rows × 4 columns</p>\n</div>"
     },
     "execution_count": 24,
     "metadata": {},
     "output_type": "execute_result"
    }
   ],
   "source": [
    "train = pd.read_csv('../assets/train/raw.csv')\n",
    "val = pd.read_csv('../assets/val/raw.csv')\n",
    "test = pd.read_csv('../assets/test/raw.csv')\n",
    "\n",
    "train"
   ],
   "metadata": {
    "collapsed": false,
    "ExecuteTime": {
     "end_time": "2023-12-02T01:13:13.801218500Z",
     "start_time": "2023-12-02T01:13:13.682163100Z"
    }
   },
   "id": "3c372df492118ad7"
  },
  {
   "cell_type": "markdown",
   "source": [
    "## Normalização de textos"
   ],
   "metadata": {
    "collapsed": false
   },
   "id": "9d04dfdb8222e54b"
  },
  {
   "cell_type": "markdown",
   "source": [
    "### Transformação de texto"
   ],
   "metadata": {
    "collapsed": false
   },
   "id": "4e277ffb12a1f407"
  },
  {
   "cell_type": "markdown",
   "source": [
    "#### Funções auxiliares"
   ],
   "metadata": {
    "collapsed": false
   },
   "id": "e0712ba4057d1bf5"
  },
  {
   "cell_type": "code",
   "execution_count": 25,
   "outputs": [],
   "source": [
    "def transformar_texto_coluna_df(df: pd.DataFrame, column_name: str):\n",
    "\n",
    "    df_transformado = df.copy()\n",
    "    \n",
    "    # Remove acentos do texto - \"CAFÉ\" -> \"CAFE\"\n",
    "    df_transformado[column_name] = df_transformado[column_name].map(lambda s:\n",
    "                                                                    remove_acentos(s))\n",
    "    # converte texto para lower case - \"CAFE\" -> \"cafe\"\n",
    "    df_transformado[column_name] = df_transformado[column_name].map(lambda s: s.lower())\n",
    "\n",
    "    # Remove pontuações\n",
    "    df_transformado[column_name] = df_transformado[column_name].map(\n",
    "        lambda s: s.translate(str.maketrans('', '', string.punctuation)))\n",
    "    \n",
    "    df_transformado[column_name] = df_transformado[column_name].map(lambda s: s.replace('r$', ''))\n",
    "\n",
    "    # Remove números\n",
    "    df_transformado[column_name] = df_transformado[column_name].map(lambda s: remove_numeros(s))\n",
    "\n",
    "    # Remove espaços desnecessários\n",
    "    df_transformado[column_name] = df_transformado[column_name].map(lambda s: s.strip())\n",
    "    return df_transformado"
   ],
   "metadata": {
    "collapsed": false,
    "ExecuteTime": {
     "end_time": "2023-12-02T01:13:13.809155400Z",
     "start_time": "2023-12-02T01:13:13.796221800Z"
    }
   },
   "id": "24461d1b21c65c34"
  },
  {
   "cell_type": "code",
   "execution_count": 26,
   "outputs": [],
   "source": [
    "def remove_numeros(sentence):\n",
    "    new_sentece = ''\n",
    "\n",
    "    for token in sentence.split():\n",
    "        if token.isdigit():\n",
    "            token = '<NUM>'\n",
    "        new_sentece += ' {}'.format(token)\n",
    "\n",
    "    return new_sentece\n",
    "\n",
    "def remove_acentos(text):\n",
    "    \"\"\"\n",
    "    Função para retirar acentuações e converter para minúscula\n",
    "    :param text:\n",
    "    :return text_normalizado\n",
    "    \"\"\"\n",
    "    import unicodedata\n",
    "\n",
    "    text = unicodedata.normalize('NFD', text).encode('ascii', 'ignore').decode(\"utf-8\")\n",
    "    return text"
   ],
   "metadata": {
    "collapsed": false,
    "ExecuteTime": {
     "end_time": "2023-12-02T01:13:13.846349500Z",
     "start_time": "2023-12-02T01:13:13.810150600Z"
    }
   },
   "id": "6c8405da00bf642b"
  },
  {
   "cell_type": "markdown",
   "source": [
    "#### Etapa"
   ],
   "metadata": {
    "collapsed": false
   },
   "id": "a51d34d6a1cbdec3"
  },
  {
   "cell_type": "code",
   "execution_count": 27,
   "outputs": [
    {
     "data": {
      "text/plain": "                                                   title  \\\n0          ifix fecha aos <NUM> pontos com alta de <NUM>   \n1      nissan e acusada e ghosn tem indiciamento por ...   \n2      votacao de projetos que miram alta dos combust...   \n3      vendas dos titulos do tesouro direto caem <NUM...   \n4      agenda do dia petrobras yduqs oi aes tiete car...   \n...                                                  ...   \n14404  mycap tem tres novas acoes na carteira recomen...   \n14405  futuros do minerio de ferro registram perdas d...   \n14406  acoes para investir em dezembro modalmais esca...   \n14407  indexados do tesouro direto apresentam queda n...   \n14408  carrefour hapvida e sulamerica entram na <NUM>...   \n\n                                                    tags  \\\n0      ['cotação do ifix', 'FII', 'FIIs', 'fundo de i...   \n1                           ['Fraudes', 'internacional']   \n2      ['Combustíveis', 'ICMS', 'Inflação', 'Petrobra...   \n3                 ['Tesouro Direto', 'Tesouro Nacional']   \n4      ['AES Tietê (TIET3/TIET4/TIET11)', 'agenda do ...   \n...                                                  ...   \n14404  ['Ações', 'B3', 'BR Malls', 'Carteira Recomend...   \n14405  ['China', 'Commodities', 'Minério de ferro', '...   \n14406  ['ABC Brasil', 'Ações', 'Banco do Brasil', 'Ca...   \n14407  ['Tesouro Direto', 'Tesouro Nacional', 'títulos']   \n14408  ['B3', 'Bradesco', 'Carrefour', 'Comprar ou ve...   \n\n                                                    link  label  \n0      https://www.sunoresearch.com.br/noticias/ifix-...      0  \n1      https://www.sunoresearch.com.br/noticias/ghosn...      0  \n2      https://www.moneytimes.com.br/votacao-de-proje...      1  \n3      https://www.sunoresearch.com.br/noticias/venda...      0  \n4      https://www.suno.com.br/noticias/agenda-do-dia...      1  \n...                                                  ...    ...  \n14404  https://www.moneytimes.com.br/mycap-tem-tres-n...      1  \n14405  https://www.moneytimes.com.br/futuros-do-miner...      2  \n14406  https://www.moneytimes.com.br/acoes-para-inves...      2  \n14407  https://www.sunoresearch.com.br/noticias/index...      0  \n14408  https://www.moneytimes.com.br/carrefour-hapvid...      2  \n\n[14409 rows x 4 columns]",
      "text/html": "<div>\n<style scoped>\n    .dataframe tbody tr th:only-of-type {\n        vertical-align: middle;\n    }\n\n    .dataframe tbody tr th {\n        vertical-align: top;\n    }\n\n    .dataframe thead th {\n        text-align: right;\n    }\n</style>\n<table border=\"1\" class=\"dataframe\">\n  <thead>\n    <tr style=\"text-align: right;\">\n      <th></th>\n      <th>title</th>\n      <th>tags</th>\n      <th>link</th>\n      <th>label</th>\n    </tr>\n  </thead>\n  <tbody>\n    <tr>\n      <th>0</th>\n      <td>ifix fecha aos &lt;NUM&gt; pontos com alta de &lt;NUM&gt;</td>\n      <td>['cotação do ifix', 'FII', 'FIIs', 'fundo de i...</td>\n      <td>https://www.sunoresearch.com.br/noticias/ifix-...</td>\n      <td>0</td>\n    </tr>\n    <tr>\n      <th>1</th>\n      <td>nissan e acusada e ghosn tem indiciamento por ...</td>\n      <td>['Fraudes', 'internacional']</td>\n      <td>https://www.sunoresearch.com.br/noticias/ghosn...</td>\n      <td>0</td>\n    </tr>\n    <tr>\n      <th>2</th>\n      <td>votacao de projetos que miram alta dos combust...</td>\n      <td>['Combustíveis', 'ICMS', 'Inflação', 'Petrobra...</td>\n      <td>https://www.moneytimes.com.br/votacao-de-proje...</td>\n      <td>1</td>\n    </tr>\n    <tr>\n      <th>3</th>\n      <td>vendas dos titulos do tesouro direto caem &lt;NUM...</td>\n      <td>['Tesouro Direto', 'Tesouro Nacional']</td>\n      <td>https://www.sunoresearch.com.br/noticias/venda...</td>\n      <td>0</td>\n    </tr>\n    <tr>\n      <th>4</th>\n      <td>agenda do dia petrobras yduqs oi aes tiete car...</td>\n      <td>['AES Tietê (TIET3/TIET4/TIET11)', 'agenda do ...</td>\n      <td>https://www.suno.com.br/noticias/agenda-do-dia...</td>\n      <td>1</td>\n    </tr>\n    <tr>\n      <th>...</th>\n      <td>...</td>\n      <td>...</td>\n      <td>...</td>\n      <td>...</td>\n    </tr>\n    <tr>\n      <th>14404</th>\n      <td>mycap tem tres novas acoes na carteira recomen...</td>\n      <td>['Ações', 'B3', 'BR Malls', 'Carteira Recomend...</td>\n      <td>https://www.moneytimes.com.br/mycap-tem-tres-n...</td>\n      <td>1</td>\n    </tr>\n    <tr>\n      <th>14405</th>\n      <td>futuros do minerio de ferro registram perdas d...</td>\n      <td>['China', 'Commodities', 'Minério de ferro', '...</td>\n      <td>https://www.moneytimes.com.br/futuros-do-miner...</td>\n      <td>2</td>\n    </tr>\n    <tr>\n      <th>14406</th>\n      <td>acoes para investir em dezembro modalmais esca...</td>\n      <td>['ABC Brasil', 'Ações', 'Banco do Brasil', 'Ca...</td>\n      <td>https://www.moneytimes.com.br/acoes-para-inves...</td>\n      <td>2</td>\n    </tr>\n    <tr>\n      <th>14407</th>\n      <td>indexados do tesouro direto apresentam queda n...</td>\n      <td>['Tesouro Direto', 'Tesouro Nacional', 'títulos']</td>\n      <td>https://www.sunoresearch.com.br/noticias/index...</td>\n      <td>0</td>\n    </tr>\n    <tr>\n      <th>14408</th>\n      <td>carrefour hapvida e sulamerica entram na &lt;NUM&gt;...</td>\n      <td>['B3', 'Bradesco', 'Carrefour', 'Comprar ou ve...</td>\n      <td>https://www.moneytimes.com.br/carrefour-hapvid...</td>\n      <td>2</td>\n    </tr>\n  </tbody>\n</table>\n<p>14409 rows × 4 columns</p>\n</div>"
     },
     "execution_count": 27,
     "metadata": {},
     "output_type": "execute_result"
    }
   ],
   "source": [
    "train_transformado = transformar_texto_coluna_df(train, 'title')\n",
    "val_transformado = transformar_texto_coluna_df(val, 'title')\n",
    "test_transformado = transformar_texto_coluna_df(test, 'title')\n",
    "\n",
    "train_transformado"
   ],
   "metadata": {
    "collapsed": false,
    "ExecuteTime": {
     "end_time": "2023-12-02T01:13:14.146825700Z",
     "start_time": "2023-12-02T01:13:13.822194300Z"
    }
   },
   "id": "e09ff69cfc50168f"
  },
  {
   "cell_type": "markdown",
   "source": [
    "### Tokenização"
   ],
   "metadata": {
    "collapsed": false
   },
   "id": "8cb91397ade2d26c"
  },
  {
   "cell_type": "markdown",
   "source": [
    "#### Funções auxiliares"
   ],
   "metadata": {
    "collapsed": false
   },
   "id": "2e6f83d45029d61c"
  },
  {
   "cell_type": "code",
   "execution_count": 28,
   "outputs": [],
   "source": [
    "def tokenizar_texto_coluna_df(df: pd.DataFrame, column_name: str):\n",
    "    df_tokenized = df.copy()\n",
    "    from nltk.tokenize import RegexpTokenizer\n",
    "    tokenizer = RegexpTokenizer(r'\\w+')\n",
    "    df_tokenized[column_name] = df_tokenized[column_name].map(lambda s: tokenizer.tokenize(s))\n",
    "    return df_tokenized"
   ],
   "metadata": {
    "collapsed": false,
    "ExecuteTime": {
     "end_time": "2023-12-02T01:13:14.159912100Z",
     "start_time": "2023-12-02T01:13:14.146825700Z"
    }
   },
   "id": "b2b61b526b91373a"
  },
  {
   "cell_type": "markdown",
   "source": [
    "#### Etapa\n",
    "\n"
   ],
   "metadata": {
    "collapsed": false
   },
   "id": "f5e42efb3b34b5e9"
  },
  {
   "cell_type": "code",
   "execution_count": 29,
   "outputs": [
    {
     "data": {
      "text/plain": "                                                   title  \\\n0      [ifix, fecha, aos, NUM, pontos, com, alta, de,...   \n1      [nissan, e, acusada, e, ghosn, tem, indiciamen...   \n2      [votacao, de, projetos, que, miram, alta, dos,...   \n3      [vendas, dos, titulos, do, tesouro, direto, ca...   \n4      [agenda, do, dia, petrobras, yduqs, oi, aes, t...   \n...                                                  ...   \n14404  [mycap, tem, tres, novas, acoes, na, carteira,...   \n14405  [futuros, do, minerio, de, ferro, registram, p...   \n14406  [acoes, para, investir, em, dezembro, modalmai...   \n14407  [indexados, do, tesouro, direto, apresentam, q...   \n14408  [carrefour, hapvida, e, sulamerica, entram, na...   \n\n                                                    tags  \\\n0      ['cotação do ifix', 'FII', 'FIIs', 'fundo de i...   \n1                           ['Fraudes', 'internacional']   \n2      ['Combustíveis', 'ICMS', 'Inflação', 'Petrobra...   \n3                 ['Tesouro Direto', 'Tesouro Nacional']   \n4      ['AES Tietê (TIET3/TIET4/TIET11)', 'agenda do ...   \n...                                                  ...   \n14404  ['Ações', 'B3', 'BR Malls', 'Carteira Recomend...   \n14405  ['China', 'Commodities', 'Minério de ferro', '...   \n14406  ['ABC Brasil', 'Ações', 'Banco do Brasil', 'Ca...   \n14407  ['Tesouro Direto', 'Tesouro Nacional', 'títulos']   \n14408  ['B3', 'Bradesco', 'Carrefour', 'Comprar ou ve...   \n\n                                                    link  label  \n0      https://www.sunoresearch.com.br/noticias/ifix-...      0  \n1      https://www.sunoresearch.com.br/noticias/ghosn...      0  \n2      https://www.moneytimes.com.br/votacao-de-proje...      1  \n3      https://www.sunoresearch.com.br/noticias/venda...      0  \n4      https://www.suno.com.br/noticias/agenda-do-dia...      1  \n...                                                  ...    ...  \n14404  https://www.moneytimes.com.br/mycap-tem-tres-n...      1  \n14405  https://www.moneytimes.com.br/futuros-do-miner...      2  \n14406  https://www.moneytimes.com.br/acoes-para-inves...      2  \n14407  https://www.sunoresearch.com.br/noticias/index...      0  \n14408  https://www.moneytimes.com.br/carrefour-hapvid...      2  \n\n[14409 rows x 4 columns]",
      "text/html": "<div>\n<style scoped>\n    .dataframe tbody tr th:only-of-type {\n        vertical-align: middle;\n    }\n\n    .dataframe tbody tr th {\n        vertical-align: top;\n    }\n\n    .dataframe thead th {\n        text-align: right;\n    }\n</style>\n<table border=\"1\" class=\"dataframe\">\n  <thead>\n    <tr style=\"text-align: right;\">\n      <th></th>\n      <th>title</th>\n      <th>tags</th>\n      <th>link</th>\n      <th>label</th>\n    </tr>\n  </thead>\n  <tbody>\n    <tr>\n      <th>0</th>\n      <td>[ifix, fecha, aos, NUM, pontos, com, alta, de,...</td>\n      <td>['cotação do ifix', 'FII', 'FIIs', 'fundo de i...</td>\n      <td>https://www.sunoresearch.com.br/noticias/ifix-...</td>\n      <td>0</td>\n    </tr>\n    <tr>\n      <th>1</th>\n      <td>[nissan, e, acusada, e, ghosn, tem, indiciamen...</td>\n      <td>['Fraudes', 'internacional']</td>\n      <td>https://www.sunoresearch.com.br/noticias/ghosn...</td>\n      <td>0</td>\n    </tr>\n    <tr>\n      <th>2</th>\n      <td>[votacao, de, projetos, que, miram, alta, dos,...</td>\n      <td>['Combustíveis', 'ICMS', 'Inflação', 'Petrobra...</td>\n      <td>https://www.moneytimes.com.br/votacao-de-proje...</td>\n      <td>1</td>\n    </tr>\n    <tr>\n      <th>3</th>\n      <td>[vendas, dos, titulos, do, tesouro, direto, ca...</td>\n      <td>['Tesouro Direto', 'Tesouro Nacional']</td>\n      <td>https://www.sunoresearch.com.br/noticias/venda...</td>\n      <td>0</td>\n    </tr>\n    <tr>\n      <th>4</th>\n      <td>[agenda, do, dia, petrobras, yduqs, oi, aes, t...</td>\n      <td>['AES Tietê (TIET3/TIET4/TIET11)', 'agenda do ...</td>\n      <td>https://www.suno.com.br/noticias/agenda-do-dia...</td>\n      <td>1</td>\n    </tr>\n    <tr>\n      <th>...</th>\n      <td>...</td>\n      <td>...</td>\n      <td>...</td>\n      <td>...</td>\n    </tr>\n    <tr>\n      <th>14404</th>\n      <td>[mycap, tem, tres, novas, acoes, na, carteira,...</td>\n      <td>['Ações', 'B3', 'BR Malls', 'Carteira Recomend...</td>\n      <td>https://www.moneytimes.com.br/mycap-tem-tres-n...</td>\n      <td>1</td>\n    </tr>\n    <tr>\n      <th>14405</th>\n      <td>[futuros, do, minerio, de, ferro, registram, p...</td>\n      <td>['China', 'Commodities', 'Minério de ferro', '...</td>\n      <td>https://www.moneytimes.com.br/futuros-do-miner...</td>\n      <td>2</td>\n    </tr>\n    <tr>\n      <th>14406</th>\n      <td>[acoes, para, investir, em, dezembro, modalmai...</td>\n      <td>['ABC Brasil', 'Ações', 'Banco do Brasil', 'Ca...</td>\n      <td>https://www.moneytimes.com.br/acoes-para-inves...</td>\n      <td>2</td>\n    </tr>\n    <tr>\n      <th>14407</th>\n      <td>[indexados, do, tesouro, direto, apresentam, q...</td>\n      <td>['Tesouro Direto', 'Tesouro Nacional', 'títulos']</td>\n      <td>https://www.sunoresearch.com.br/noticias/index...</td>\n      <td>0</td>\n    </tr>\n    <tr>\n      <th>14408</th>\n      <td>[carrefour, hapvida, e, sulamerica, entram, na...</td>\n      <td>['B3', 'Bradesco', 'Carrefour', 'Comprar ou ve...</td>\n      <td>https://www.moneytimes.com.br/carrefour-hapvid...</td>\n      <td>2</td>\n    </tr>\n  </tbody>\n</table>\n<p>14409 rows × 4 columns</p>\n</div>"
     },
     "execution_count": 29,
     "metadata": {},
     "output_type": "execute_result"
    }
   ],
   "source": [
    "train_tokenizado = tokenizar_texto_coluna_df(train_transformado, 'title')\n",
    "val_tokenizado = tokenizar_texto_coluna_df(val_transformado, 'title')\n",
    "test_tokenizado = tokenizar_texto_coluna_df(test_transformado, 'title')\n",
    "train_tokenizado"
   ],
   "metadata": {
    "collapsed": false,
    "ExecuteTime": {
     "end_time": "2023-12-02T01:13:14.317947600Z",
     "start_time": "2023-12-02T01:13:14.158024400Z"
    }
   },
   "id": "a9e451119c83ea7b"
  },
  {
   "cell_type": "markdown",
   "source": [
    "### Remoção de stopwords"
   ],
   "metadata": {
    "collapsed": false
   },
   "id": "2307b3516ded1eef"
  },
  {
   "cell_type": "markdown",
   "source": [
    "#### Funções auxiliares"
   ],
   "metadata": {
    "collapsed": false
   },
   "id": "c5b9aafad47148"
  },
  {
   "cell_type": "code",
   "execution_count": 30,
   "outputs": [],
   "source": [
    "def remover_stopwords_coluna_df(df: pd.DataFrame, column_name: str, language: str):\n",
    "    df_without_stopwords = df.copy()\n",
    "    stop_words = get_stopwords(language)\n",
    "    df_without_stopwords[column_name] = df_without_stopwords[column_name].map(\n",
    "        lambda tokens: remove_stopwords(tokens, stop_words))\n",
    "    return df_without_stopwords"
   ],
   "metadata": {
    "collapsed": false,
    "ExecuteTime": {
     "end_time": "2023-12-02T01:13:14.317947600Z",
     "start_time": "2023-12-02T01:13:14.297451200Z"
    }
   },
   "id": "4349e82beaceac90"
  },
  {
   "cell_type": "code",
   "execution_count": 31,
   "outputs": [
    {
     "name": "stderr",
     "output_type": "stream",
     "text": [
      "[nltk_data] Downloading package stopwords to\n",
      "[nltk_data]     C:\\Users\\Guilherme\\AppData\\Roaming\\nltk_data...\n",
      "[nltk_data]   Package stopwords is already up-to-date!\n"
     ]
    }
   ],
   "source": [
    "nltk.download('stopwords')\n",
    "def get_stopwords(language):\n",
    "    stop_words = []\n",
    "\n",
    "    if language == 'pt':\n",
    "        stop_words = nltk.corpus.stopwords.words('portuguese')\n",
    "    elif language == 'en':\n",
    "        stop_words = nltk.corpus.stopwords.words('english')\n",
    "\n",
    "    return stop_words\n",
    "\n",
    "def remove_stopwords(tokens, stop_words):\n",
    "    tokens_without_sw = []\n",
    "    for word in tokens:\n",
    "        if word not in stop_words:\n",
    "            tokens_without_sw.append(word)\n",
    "\n",
    "    return tokens_without_sw"
   ],
   "metadata": {
    "collapsed": false,
    "ExecuteTime": {
     "end_time": "2023-12-02T01:13:14.397654Z",
     "start_time": "2023-12-02T01:13:14.316946700Z"
    }
   },
   "id": "ca3945ccee17c48"
  },
  {
   "cell_type": "markdown",
   "source": [
    "#### Etapa"
   ],
   "metadata": {
    "collapsed": false
   },
   "id": "543629e54c1e994"
  },
  {
   "cell_type": "code",
   "execution_count": 32,
   "outputs": [
    {
     "data": {
      "text/plain": "                                                   title  \\\n0                  [ifix, fecha, NUM, pontos, alta, NUM]   \n1      [nissan, acusada, ghosn, indiciamento, fraude,...   \n2      [votacao, projetos, miram, alta, combustiveis,...   \n3      [vendas, titulos, tesouro, direto, caem, NUM, ...   \n4      [agenda, dia, petrobras, yduqs, oi, aes, tiete...   \n...                                                  ...   \n14404  [mycap, tres, novas, acoes, carteira, recomend...   \n14405  [futuros, minerio, ferro, registram, perdas, N...   \n14406  [acoes, investir, dezembro, modalmais, escala,...   \n14407  [indexados, tesouro, direto, apresentam, queda...   \n14408  [carrefour, hapvida, sulamerica, entram, NUM, ...   \n\n                                                    tags  \\\n0      ['cotação do ifix', 'FII', 'FIIs', 'fundo de i...   \n1                           ['Fraudes', 'internacional']   \n2      ['Combustíveis', 'ICMS', 'Inflação', 'Petrobra...   \n3                 ['Tesouro Direto', 'Tesouro Nacional']   \n4      ['AES Tietê (TIET3/TIET4/TIET11)', 'agenda do ...   \n...                                                  ...   \n14404  ['Ações', 'B3', 'BR Malls', 'Carteira Recomend...   \n14405  ['China', 'Commodities', 'Minério de ferro', '...   \n14406  ['ABC Brasil', 'Ações', 'Banco do Brasil', 'Ca...   \n14407  ['Tesouro Direto', 'Tesouro Nacional', 'títulos']   \n14408  ['B3', 'Bradesco', 'Carrefour', 'Comprar ou ve...   \n\n                                                    link  label  \n0      https://www.sunoresearch.com.br/noticias/ifix-...      0  \n1      https://www.sunoresearch.com.br/noticias/ghosn...      0  \n2      https://www.moneytimes.com.br/votacao-de-proje...      1  \n3      https://www.sunoresearch.com.br/noticias/venda...      0  \n4      https://www.suno.com.br/noticias/agenda-do-dia...      1  \n...                                                  ...    ...  \n14404  https://www.moneytimes.com.br/mycap-tem-tres-n...      1  \n14405  https://www.moneytimes.com.br/futuros-do-miner...      2  \n14406  https://www.moneytimes.com.br/acoes-para-inves...      2  \n14407  https://www.sunoresearch.com.br/noticias/index...      0  \n14408  https://www.moneytimes.com.br/carrefour-hapvid...      2  \n\n[14409 rows x 4 columns]",
      "text/html": "<div>\n<style scoped>\n    .dataframe tbody tr th:only-of-type {\n        vertical-align: middle;\n    }\n\n    .dataframe tbody tr th {\n        vertical-align: top;\n    }\n\n    .dataframe thead th {\n        text-align: right;\n    }\n</style>\n<table border=\"1\" class=\"dataframe\">\n  <thead>\n    <tr style=\"text-align: right;\">\n      <th></th>\n      <th>title</th>\n      <th>tags</th>\n      <th>link</th>\n      <th>label</th>\n    </tr>\n  </thead>\n  <tbody>\n    <tr>\n      <th>0</th>\n      <td>[ifix, fecha, NUM, pontos, alta, NUM]</td>\n      <td>['cotação do ifix', 'FII', 'FIIs', 'fundo de i...</td>\n      <td>https://www.sunoresearch.com.br/noticias/ifix-...</td>\n      <td>0</td>\n    </tr>\n    <tr>\n      <th>1</th>\n      <td>[nissan, acusada, ghosn, indiciamento, fraude,...</td>\n      <td>['Fraudes', 'internacional']</td>\n      <td>https://www.sunoresearch.com.br/noticias/ghosn...</td>\n      <td>0</td>\n    </tr>\n    <tr>\n      <th>2</th>\n      <td>[votacao, projetos, miram, alta, combustiveis,...</td>\n      <td>['Combustíveis', 'ICMS', 'Inflação', 'Petrobra...</td>\n      <td>https://www.moneytimes.com.br/votacao-de-proje...</td>\n      <td>1</td>\n    </tr>\n    <tr>\n      <th>3</th>\n      <td>[vendas, titulos, tesouro, direto, caem, NUM, ...</td>\n      <td>['Tesouro Direto', 'Tesouro Nacional']</td>\n      <td>https://www.sunoresearch.com.br/noticias/venda...</td>\n      <td>0</td>\n    </tr>\n    <tr>\n      <th>4</th>\n      <td>[agenda, dia, petrobras, yduqs, oi, aes, tiete...</td>\n      <td>['AES Tietê (TIET3/TIET4/TIET11)', 'agenda do ...</td>\n      <td>https://www.suno.com.br/noticias/agenda-do-dia...</td>\n      <td>1</td>\n    </tr>\n    <tr>\n      <th>...</th>\n      <td>...</td>\n      <td>...</td>\n      <td>...</td>\n      <td>...</td>\n    </tr>\n    <tr>\n      <th>14404</th>\n      <td>[mycap, tres, novas, acoes, carteira, recomend...</td>\n      <td>['Ações', 'B3', 'BR Malls', 'Carteira Recomend...</td>\n      <td>https://www.moneytimes.com.br/mycap-tem-tres-n...</td>\n      <td>1</td>\n    </tr>\n    <tr>\n      <th>14405</th>\n      <td>[futuros, minerio, ferro, registram, perdas, N...</td>\n      <td>['China', 'Commodities', 'Minério de ferro', '...</td>\n      <td>https://www.moneytimes.com.br/futuros-do-miner...</td>\n      <td>2</td>\n    </tr>\n    <tr>\n      <th>14406</th>\n      <td>[acoes, investir, dezembro, modalmais, escala,...</td>\n      <td>['ABC Brasil', 'Ações', 'Banco do Brasil', 'Ca...</td>\n      <td>https://www.moneytimes.com.br/acoes-para-inves...</td>\n      <td>2</td>\n    </tr>\n    <tr>\n      <th>14407</th>\n      <td>[indexados, tesouro, direto, apresentam, queda...</td>\n      <td>['Tesouro Direto', 'Tesouro Nacional', 'títulos']</td>\n      <td>https://www.sunoresearch.com.br/noticias/index...</td>\n      <td>0</td>\n    </tr>\n    <tr>\n      <th>14408</th>\n      <td>[carrefour, hapvida, sulamerica, entram, NUM, ...</td>\n      <td>['B3', 'Bradesco', 'Carrefour', 'Comprar ou ve...</td>\n      <td>https://www.moneytimes.com.br/carrefour-hapvid...</td>\n      <td>2</td>\n    </tr>\n  </tbody>\n</table>\n<p>14409 rows × 4 columns</p>\n</div>"
     },
     "execution_count": 32,
     "metadata": {},
     "output_type": "execute_result"
    }
   ],
   "source": [
    "train_sem_stopwords = remover_stopwords_coluna_df(train_tokenizado, 'title', 'pt')\n",
    "val_sem_stopwords = remover_stopwords_coluna_df(val_tokenizado, 'title', 'pt')\n",
    "test_sem_stopwords = remover_stopwords_coluna_df(test_tokenizado, 'title', 'pt')\n",
    "train_sem_stopwords"
   ],
   "metadata": {
    "collapsed": false,
    "ExecuteTime": {
     "end_time": "2023-12-02T01:13:15.473751100Z",
     "start_time": "2023-12-02T01:13:14.359803700Z"
    }
   },
   "id": "6f6806a2c4427b22"
  },
  {
   "cell_type": "markdown",
   "source": [
    "### Stemização"
   ],
   "metadata": {
    "collapsed": false
   },
   "id": "ed62ea6e613dafb"
  },
  {
   "cell_type": "markdown",
   "source": [
    "#### Funções auxiliares"
   ],
   "metadata": {
    "collapsed": false
   },
   "id": "b908817fa55234fc"
  },
  {
   "cell_type": "code",
   "execution_count": 33,
   "outputs": [],
   "source": [
    "def stemizar_tokens_coluna_df(df: pd.DataFrame, column_name: str):\n",
    "    \n",
    "    df_stemized = df.copy()\n",
    "    from nltk.stem import SnowballStemmer\n",
    "    stemmer = SnowballStemmer('portuguese')\n",
    "    df_stemized[column_name] = df_stemized[column_name].map(lambda tokens: [stemmer.stem(token) for token in tokens])\n",
    "    return df_stemized"
   ],
   "metadata": {
    "collapsed": false,
    "ExecuteTime": {
     "end_time": "2023-12-02T01:13:15.474752300Z",
     "start_time": "2023-12-02T01:13:15.414746900Z"
    }
   },
   "id": "b8d6a6f02d82840c"
  },
  {
   "cell_type": "markdown",
   "source": [
    "#### Etapa"
   ],
   "metadata": {
    "collapsed": false
   },
   "id": "ae988b979e740041"
  },
  {
   "cell_type": "code",
   "execution_count": 34,
   "outputs": [
    {
     "data": {
      "text/plain": "                                                   title  \\\n0                     [ifix, fech, num, pont, alta, num]   \n1         [nissan, acus, ghosn, indic, fraud, oficializ]   \n2      [votaca, projet, mir, alta, combustiv, dev, fi...   \n3        [vend, titul, tesour, diret, caem, num, janeir]   \n4      [agend, dia, petrobr, yduqs, oi, aes, tiet, ca...   \n...                                                  ...   \n14404  [mycap, tres, nov, aco, carteir, recomend, men...   \n14405  [futur, mineri, ferr, registr, perd, num, dalian]   \n14406  [aco, invest, dezembr, modalm, escal, num, mel...   \n14407  [index, tesour, diret, apresent, qued, tax, re...   \n14408  [carrefour, hapv, sulamer, entram, num, prev, ...   \n\n                                                    tags  \\\n0      ['cotação do ifix', 'FII', 'FIIs', 'fundo de i...   \n1                           ['Fraudes', 'internacional']   \n2      ['Combustíveis', 'ICMS', 'Inflação', 'Petrobra...   \n3                 ['Tesouro Direto', 'Tesouro Nacional']   \n4      ['AES Tietê (TIET3/TIET4/TIET11)', 'agenda do ...   \n...                                                  ...   \n14404  ['Ações', 'B3', 'BR Malls', 'Carteira Recomend...   \n14405  ['China', 'Commodities', 'Minério de ferro', '...   \n14406  ['ABC Brasil', 'Ações', 'Banco do Brasil', 'Ca...   \n14407  ['Tesouro Direto', 'Tesouro Nacional', 'títulos']   \n14408  ['B3', 'Bradesco', 'Carrefour', 'Comprar ou ve...   \n\n                                                    link  label  \n0      https://www.sunoresearch.com.br/noticias/ifix-...      0  \n1      https://www.sunoresearch.com.br/noticias/ghosn...      0  \n2      https://www.moneytimes.com.br/votacao-de-proje...      1  \n3      https://www.sunoresearch.com.br/noticias/venda...      0  \n4      https://www.suno.com.br/noticias/agenda-do-dia...      1  \n...                                                  ...    ...  \n14404  https://www.moneytimes.com.br/mycap-tem-tres-n...      1  \n14405  https://www.moneytimes.com.br/futuros-do-miner...      2  \n14406  https://www.moneytimes.com.br/acoes-para-inves...      2  \n14407  https://www.sunoresearch.com.br/noticias/index...      0  \n14408  https://www.moneytimes.com.br/carrefour-hapvid...      2  \n\n[14409 rows x 4 columns]",
      "text/html": "<div>\n<style scoped>\n    .dataframe tbody tr th:only-of-type {\n        vertical-align: middle;\n    }\n\n    .dataframe tbody tr th {\n        vertical-align: top;\n    }\n\n    .dataframe thead th {\n        text-align: right;\n    }\n</style>\n<table border=\"1\" class=\"dataframe\">\n  <thead>\n    <tr style=\"text-align: right;\">\n      <th></th>\n      <th>title</th>\n      <th>tags</th>\n      <th>link</th>\n      <th>label</th>\n    </tr>\n  </thead>\n  <tbody>\n    <tr>\n      <th>0</th>\n      <td>[ifix, fech, num, pont, alta, num]</td>\n      <td>['cotação do ifix', 'FII', 'FIIs', 'fundo de i...</td>\n      <td>https://www.sunoresearch.com.br/noticias/ifix-...</td>\n      <td>0</td>\n    </tr>\n    <tr>\n      <th>1</th>\n      <td>[nissan, acus, ghosn, indic, fraud, oficializ]</td>\n      <td>['Fraudes', 'internacional']</td>\n      <td>https://www.sunoresearch.com.br/noticias/ghosn...</td>\n      <td>0</td>\n    </tr>\n    <tr>\n      <th>2</th>\n      <td>[votaca, projet, mir, alta, combustiv, dev, fi...</td>\n      <td>['Combustíveis', 'ICMS', 'Inflação', 'Petrobra...</td>\n      <td>https://www.moneytimes.com.br/votacao-de-proje...</td>\n      <td>1</td>\n    </tr>\n    <tr>\n      <th>3</th>\n      <td>[vend, titul, tesour, diret, caem, num, janeir]</td>\n      <td>['Tesouro Direto', 'Tesouro Nacional']</td>\n      <td>https://www.sunoresearch.com.br/noticias/venda...</td>\n      <td>0</td>\n    </tr>\n    <tr>\n      <th>4</th>\n      <td>[agend, dia, petrobr, yduqs, oi, aes, tiet, ca...</td>\n      <td>['AES Tietê (TIET3/TIET4/TIET11)', 'agenda do ...</td>\n      <td>https://www.suno.com.br/noticias/agenda-do-dia...</td>\n      <td>1</td>\n    </tr>\n    <tr>\n      <th>...</th>\n      <td>...</td>\n      <td>...</td>\n      <td>...</td>\n      <td>...</td>\n    </tr>\n    <tr>\n      <th>14404</th>\n      <td>[mycap, tres, nov, aco, carteir, recomend, men...</td>\n      <td>['Ações', 'B3', 'BR Malls', 'Carteira Recomend...</td>\n      <td>https://www.moneytimes.com.br/mycap-tem-tres-n...</td>\n      <td>1</td>\n    </tr>\n    <tr>\n      <th>14405</th>\n      <td>[futur, mineri, ferr, registr, perd, num, dalian]</td>\n      <td>['China', 'Commodities', 'Minério de ferro', '...</td>\n      <td>https://www.moneytimes.com.br/futuros-do-miner...</td>\n      <td>2</td>\n    </tr>\n    <tr>\n      <th>14406</th>\n      <td>[aco, invest, dezembr, modalm, escal, num, mel...</td>\n      <td>['ABC Brasil', 'Ações', 'Banco do Brasil', 'Ca...</td>\n      <td>https://www.moneytimes.com.br/acoes-para-inves...</td>\n      <td>2</td>\n    </tr>\n    <tr>\n      <th>14407</th>\n      <td>[index, tesour, diret, apresent, qued, tax, re...</td>\n      <td>['Tesouro Direto', 'Tesouro Nacional', 'títulos']</td>\n      <td>https://www.sunoresearch.com.br/noticias/index...</td>\n      <td>0</td>\n    </tr>\n    <tr>\n      <th>14408</th>\n      <td>[carrefour, hapv, sulamer, entram, num, prev, ...</td>\n      <td>['B3', 'Bradesco', 'Carrefour', 'Comprar ou ve...</td>\n      <td>https://www.moneytimes.com.br/carrefour-hapvid...</td>\n      <td>2</td>\n    </tr>\n  </tbody>\n</table>\n<p>14409 rows × 4 columns</p>\n</div>"
     },
     "execution_count": 34,
     "metadata": {},
     "output_type": "execute_result"
    }
   ],
   "source": [
    "train_stemizado = stemizar_tokens_coluna_df(train_sem_stopwords, 'title')\n",
    "val_stemizado = stemizar_tokens_coluna_df(val_sem_stopwords, 'title')\n",
    "test_stemizado = stemizar_tokens_coluna_df(test_sem_stopwords, 'title')\n",
    "train_stemizado"
   ],
   "metadata": {
    "collapsed": false,
    "ExecuteTime": {
     "end_time": "2023-12-02T01:13:20.682011800Z",
     "start_time": "2023-12-02T01:13:15.420876200Z"
    }
   },
   "id": "674eecc07376d4cd"
  },
  {
   "cell_type": "markdown",
   "source": [
    "### Resultado final da Normalização de textos"
   ],
   "metadata": {
    "collapsed": false
   },
   "id": "f6395e1dc30df2f"
  },
  {
   "cell_type": "markdown",
   "source": [
    "#### Funções auxiliares"
   ],
   "metadata": {
    "collapsed": false
   },
   "id": "ea28fad61825aedc"
  },
  {
   "cell_type": "code",
   "execution_count": 35,
   "outputs": [],
   "source": [
    "def get_resultado_final(df: pd.DataFrame, column_name: str):\n",
    "    df_resultado_final = df.copy()\n",
    "    df_resultado_final[column_name] = df_resultado_final[column_name].map(lambda s: ' '.join(s))\n",
    "    return df_resultado_final"
   ],
   "metadata": {
    "collapsed": false,
    "ExecuteTime": {
     "end_time": "2023-12-02T01:13:20.690238700Z",
     "start_time": "2023-12-02T01:13:20.680015Z"
    }
   },
   "id": "e2a9421f1118ceb1"
  },
  {
   "cell_type": "markdown",
   "source": [
    "#### Etapa"
   ],
   "metadata": {
    "collapsed": false
   },
   "id": "dd8bdc5ce9d09bfb"
  },
  {
   "cell_type": "code",
   "execution_count": 36,
   "outputs": [
    {
     "data": {
      "text/plain": "                                                   title  \\\n0                            ifix fech num pont alta num   \n1                nissan acus ghosn indic fraud oficializ   \n2      votaca projet mir alta combustiv dev fic caranval   \n3                vend titul tesour diret caem num janeir   \n4      agend dia petrobr yduqs oi aes tiet carrefour ...   \n...                                                  ...   \n14404     mycap tres nov aco carteir recomend mensal vej   \n14405          futur mineri ferr registr perd num dalian   \n14406  aco invest dezembr modalm escal num melhor ind...   \n14407      index tesour diret apresent qued tax rentabil   \n14408  carrefour hapv sulamer entram num prev ibovesp...   \n\n                                                    tags  \\\n0      ['cotação do ifix', 'FII', 'FIIs', 'fundo de i...   \n1                           ['Fraudes', 'internacional']   \n2      ['Combustíveis', 'ICMS', 'Inflação', 'Petrobra...   \n3                 ['Tesouro Direto', 'Tesouro Nacional']   \n4      ['AES Tietê (TIET3/TIET4/TIET11)', 'agenda do ...   \n...                                                  ...   \n14404  ['Ações', 'B3', 'BR Malls', 'Carteira Recomend...   \n14405  ['China', 'Commodities', 'Minério de ferro', '...   \n14406  ['ABC Brasil', 'Ações', 'Banco do Brasil', 'Ca...   \n14407  ['Tesouro Direto', 'Tesouro Nacional', 'títulos']   \n14408  ['B3', 'Bradesco', 'Carrefour', 'Comprar ou ve...   \n\n                                                    link  label  \n0      https://www.sunoresearch.com.br/noticias/ifix-...      0  \n1      https://www.sunoresearch.com.br/noticias/ghosn...      0  \n2      https://www.moneytimes.com.br/votacao-de-proje...      1  \n3      https://www.sunoresearch.com.br/noticias/venda...      0  \n4      https://www.suno.com.br/noticias/agenda-do-dia...      1  \n...                                                  ...    ...  \n14404  https://www.moneytimes.com.br/mycap-tem-tres-n...      1  \n14405  https://www.moneytimes.com.br/futuros-do-miner...      2  \n14406  https://www.moneytimes.com.br/acoes-para-inves...      2  \n14407  https://www.sunoresearch.com.br/noticias/index...      0  \n14408  https://www.moneytimes.com.br/carrefour-hapvid...      2  \n\n[14409 rows x 4 columns]",
      "text/html": "<div>\n<style scoped>\n    .dataframe tbody tr th:only-of-type {\n        vertical-align: middle;\n    }\n\n    .dataframe tbody tr th {\n        vertical-align: top;\n    }\n\n    .dataframe thead th {\n        text-align: right;\n    }\n</style>\n<table border=\"1\" class=\"dataframe\">\n  <thead>\n    <tr style=\"text-align: right;\">\n      <th></th>\n      <th>title</th>\n      <th>tags</th>\n      <th>link</th>\n      <th>label</th>\n    </tr>\n  </thead>\n  <tbody>\n    <tr>\n      <th>0</th>\n      <td>ifix fech num pont alta num</td>\n      <td>['cotação do ifix', 'FII', 'FIIs', 'fundo de i...</td>\n      <td>https://www.sunoresearch.com.br/noticias/ifix-...</td>\n      <td>0</td>\n    </tr>\n    <tr>\n      <th>1</th>\n      <td>nissan acus ghosn indic fraud oficializ</td>\n      <td>['Fraudes', 'internacional']</td>\n      <td>https://www.sunoresearch.com.br/noticias/ghosn...</td>\n      <td>0</td>\n    </tr>\n    <tr>\n      <th>2</th>\n      <td>votaca projet mir alta combustiv dev fic caranval</td>\n      <td>['Combustíveis', 'ICMS', 'Inflação', 'Petrobra...</td>\n      <td>https://www.moneytimes.com.br/votacao-de-proje...</td>\n      <td>1</td>\n    </tr>\n    <tr>\n      <th>3</th>\n      <td>vend titul tesour diret caem num janeir</td>\n      <td>['Tesouro Direto', 'Tesouro Nacional']</td>\n      <td>https://www.sunoresearch.com.br/noticias/venda...</td>\n      <td>0</td>\n    </tr>\n    <tr>\n      <th>4</th>\n      <td>agend dia petrobr yduqs oi aes tiet carrefour ...</td>\n      <td>['AES Tietê (TIET3/TIET4/TIET11)', 'agenda do ...</td>\n      <td>https://www.suno.com.br/noticias/agenda-do-dia...</td>\n      <td>1</td>\n    </tr>\n    <tr>\n      <th>...</th>\n      <td>...</td>\n      <td>...</td>\n      <td>...</td>\n      <td>...</td>\n    </tr>\n    <tr>\n      <th>14404</th>\n      <td>mycap tres nov aco carteir recomend mensal vej</td>\n      <td>['Ações', 'B3', 'BR Malls', 'Carteira Recomend...</td>\n      <td>https://www.moneytimes.com.br/mycap-tem-tres-n...</td>\n      <td>1</td>\n    </tr>\n    <tr>\n      <th>14405</th>\n      <td>futur mineri ferr registr perd num dalian</td>\n      <td>['China', 'Commodities', 'Minério de ferro', '...</td>\n      <td>https://www.moneytimes.com.br/futuros-do-miner...</td>\n      <td>2</td>\n    </tr>\n    <tr>\n      <th>14406</th>\n      <td>aco invest dezembr modalm escal num melhor ind...</td>\n      <td>['ABC Brasil', 'Ações', 'Banco do Brasil', 'Ca...</td>\n      <td>https://www.moneytimes.com.br/acoes-para-inves...</td>\n      <td>2</td>\n    </tr>\n    <tr>\n      <th>14407</th>\n      <td>index tesour diret apresent qued tax rentabil</td>\n      <td>['Tesouro Direto', 'Tesouro Nacional', 'títulos']</td>\n      <td>https://www.sunoresearch.com.br/noticias/index...</td>\n      <td>0</td>\n    </tr>\n    <tr>\n      <th>14408</th>\n      <td>carrefour hapv sulamer entram num prev ibovesp...</td>\n      <td>['B3', 'Bradesco', 'Carrefour', 'Comprar ou ve...</td>\n      <td>https://www.moneytimes.com.br/carrefour-hapvid...</td>\n      <td>2</td>\n    </tr>\n  </tbody>\n</table>\n<p>14409 rows × 4 columns</p>\n</div>"
     },
     "execution_count": 36,
     "metadata": {},
     "output_type": "execute_result"
    }
   ],
   "source": [
    "train_final = get_resultado_final(train_stemizado, 'title')\n",
    "val_final = get_resultado_final(val_stemizado, 'title')\n",
    "test_final = get_resultado_final(test_stemizado, 'title')\n",
    "train_final"
   ],
   "metadata": {
    "collapsed": false,
    "ExecuteTime": {
     "end_time": "2023-12-02T01:13:20.794265Z",
     "start_time": "2023-12-02T01:13:20.686012700Z"
    }
   },
   "id": "d3d22ede62818a47"
  },
  {
   "cell_type": "markdown",
   "source": [
    "## Extração de Caracteríosticas (Bag of Words)"
   ],
   "metadata": {
    "collapsed": false
   },
   "id": "6ff1fead13cac426"
  },
  {
   "cell_type": "code",
   "execution_count": 37,
   "outputs": [],
   "source": [
    "train_final_sample = train_final.iloc[1096:1500]"
   ],
   "metadata": {
    "collapsed": false,
    "ExecuteTime": {
     "end_time": "2023-12-02T01:13:20.818266900Z",
     "start_time": "2023-12-02T01:13:20.726721700Z"
    }
   },
   "id": "b7b158d5781d91a9"
  },
  {
   "cell_type": "markdown",
   "source": [
    "### Count Vectorizer (Tipo contagem)"
   ],
   "metadata": {
    "collapsed": false
   },
   "id": "b886618affd7e597"
  },
  {
   "cell_type": "code",
   "execution_count": 38,
   "outputs": [
    {
     "data": {
      "text/plain": "     2t20  2t22  3t21  4t19  4t20  4t21  5g  abaix  abastec  abertur  ...  \\\n0       0     0     0     0     0     0   0      0        0        0  ...   \n1       0     0     0     0     0     0   0      0        0        0  ...   \n2       0     0     0     0     0     0   0      0        0        0  ...   \n3       0     0     0     0     0     0   0      0        0        0  ...   \n4       0     0     0     0     0     0   0      0        0        0  ...   \n..    ...   ...   ...   ...   ...   ...  ..    ...      ...      ...  ...   \n399     0     0     0     0     0     0   0      0        0        0  ...   \n400     0     0     0     0     0     0   0      0        0        0  ...   \n401     0     0     0     0     0     0   0      0        0        0  ...   \n402     0     0     0     0     0     0   0      0        0        0  ...   \n403     0     0     0     0     0     0   0      0        0        0  ...   \n\n     whatsapp  wirecard  wis  wood  xi  xp  xpbr31  yduq3  yduqs  zon  \n0           0         0    0     0   0   0       0      0      0    0  \n1           0         0    0     0   0   0       0      0      0    0  \n2           0         0    0     0   0   0       0      0      0    0  \n3           0         0    0     0   0   0       0      0      0    0  \n4           0         0    0     0   0   0       0      0      0    0  \n..        ...       ...  ...   ...  ..  ..     ...    ...    ...  ...  \n399         0         0    0     0   0   0       0      0      0    0  \n400         0         0    0     0   0   0       0      0      0    0  \n401         0         0    0     0   0   0       0      0      0    0  \n402         0         0    0     0   0   0       0      0      0    0  \n403         0         0    0     0   0   0       0      0      0    0  \n\n[404 rows x 1245 columns]",
      "text/html": "<div>\n<style scoped>\n    .dataframe tbody tr th:only-of-type {\n        vertical-align: middle;\n    }\n\n    .dataframe tbody tr th {\n        vertical-align: top;\n    }\n\n    .dataframe thead th {\n        text-align: right;\n    }\n</style>\n<table border=\"1\" class=\"dataframe\">\n  <thead>\n    <tr style=\"text-align: right;\">\n      <th></th>\n      <th>2t20</th>\n      <th>2t22</th>\n      <th>3t21</th>\n      <th>4t19</th>\n      <th>4t20</th>\n      <th>4t21</th>\n      <th>5g</th>\n      <th>abaix</th>\n      <th>abastec</th>\n      <th>abertur</th>\n      <th>...</th>\n      <th>whatsapp</th>\n      <th>wirecard</th>\n      <th>wis</th>\n      <th>wood</th>\n      <th>xi</th>\n      <th>xp</th>\n      <th>xpbr31</th>\n      <th>yduq3</th>\n      <th>yduqs</th>\n      <th>zon</th>\n    </tr>\n  </thead>\n  <tbody>\n    <tr>\n      <th>0</th>\n      <td>0</td>\n      <td>0</td>\n      <td>0</td>\n      <td>0</td>\n      <td>0</td>\n      <td>0</td>\n      <td>0</td>\n      <td>0</td>\n      <td>0</td>\n      <td>0</td>\n      <td>...</td>\n      <td>0</td>\n      <td>0</td>\n      <td>0</td>\n      <td>0</td>\n      <td>0</td>\n      <td>0</td>\n      <td>0</td>\n      <td>0</td>\n      <td>0</td>\n      <td>0</td>\n    </tr>\n    <tr>\n      <th>1</th>\n      <td>0</td>\n      <td>0</td>\n      <td>0</td>\n      <td>0</td>\n      <td>0</td>\n      <td>0</td>\n      <td>0</td>\n      <td>0</td>\n      <td>0</td>\n      <td>0</td>\n      <td>...</td>\n      <td>0</td>\n      <td>0</td>\n      <td>0</td>\n      <td>0</td>\n      <td>0</td>\n      <td>0</td>\n      <td>0</td>\n      <td>0</td>\n      <td>0</td>\n      <td>0</td>\n    </tr>\n    <tr>\n      <th>2</th>\n      <td>0</td>\n      <td>0</td>\n      <td>0</td>\n      <td>0</td>\n      <td>0</td>\n      <td>0</td>\n      <td>0</td>\n      <td>0</td>\n      <td>0</td>\n      <td>0</td>\n      <td>...</td>\n      <td>0</td>\n      <td>0</td>\n      <td>0</td>\n      <td>0</td>\n      <td>0</td>\n      <td>0</td>\n      <td>0</td>\n      <td>0</td>\n      <td>0</td>\n      <td>0</td>\n    </tr>\n    <tr>\n      <th>3</th>\n      <td>0</td>\n      <td>0</td>\n      <td>0</td>\n      <td>0</td>\n      <td>0</td>\n      <td>0</td>\n      <td>0</td>\n      <td>0</td>\n      <td>0</td>\n      <td>0</td>\n      <td>...</td>\n      <td>0</td>\n      <td>0</td>\n      <td>0</td>\n      <td>0</td>\n      <td>0</td>\n      <td>0</td>\n      <td>0</td>\n      <td>0</td>\n      <td>0</td>\n      <td>0</td>\n    </tr>\n    <tr>\n      <th>4</th>\n      <td>0</td>\n      <td>0</td>\n      <td>0</td>\n      <td>0</td>\n      <td>0</td>\n      <td>0</td>\n      <td>0</td>\n      <td>0</td>\n      <td>0</td>\n      <td>0</td>\n      <td>...</td>\n      <td>0</td>\n      <td>0</td>\n      <td>0</td>\n      <td>0</td>\n      <td>0</td>\n      <td>0</td>\n      <td>0</td>\n      <td>0</td>\n      <td>0</td>\n      <td>0</td>\n    </tr>\n    <tr>\n      <th>...</th>\n      <td>...</td>\n      <td>...</td>\n      <td>...</td>\n      <td>...</td>\n      <td>...</td>\n      <td>...</td>\n      <td>...</td>\n      <td>...</td>\n      <td>...</td>\n      <td>...</td>\n      <td>...</td>\n      <td>...</td>\n      <td>...</td>\n      <td>...</td>\n      <td>...</td>\n      <td>...</td>\n      <td>...</td>\n      <td>...</td>\n      <td>...</td>\n      <td>...</td>\n      <td>...</td>\n    </tr>\n    <tr>\n      <th>399</th>\n      <td>0</td>\n      <td>0</td>\n      <td>0</td>\n      <td>0</td>\n      <td>0</td>\n      <td>0</td>\n      <td>0</td>\n      <td>0</td>\n      <td>0</td>\n      <td>0</td>\n      <td>...</td>\n      <td>0</td>\n      <td>0</td>\n      <td>0</td>\n      <td>0</td>\n      <td>0</td>\n      <td>0</td>\n      <td>0</td>\n      <td>0</td>\n      <td>0</td>\n      <td>0</td>\n    </tr>\n    <tr>\n      <th>400</th>\n      <td>0</td>\n      <td>0</td>\n      <td>0</td>\n      <td>0</td>\n      <td>0</td>\n      <td>0</td>\n      <td>0</td>\n      <td>0</td>\n      <td>0</td>\n      <td>0</td>\n      <td>...</td>\n      <td>0</td>\n      <td>0</td>\n      <td>0</td>\n      <td>0</td>\n      <td>0</td>\n      <td>0</td>\n      <td>0</td>\n      <td>0</td>\n      <td>0</td>\n      <td>0</td>\n    </tr>\n    <tr>\n      <th>401</th>\n      <td>0</td>\n      <td>0</td>\n      <td>0</td>\n      <td>0</td>\n      <td>0</td>\n      <td>0</td>\n      <td>0</td>\n      <td>0</td>\n      <td>0</td>\n      <td>0</td>\n      <td>...</td>\n      <td>0</td>\n      <td>0</td>\n      <td>0</td>\n      <td>0</td>\n      <td>0</td>\n      <td>0</td>\n      <td>0</td>\n      <td>0</td>\n      <td>0</td>\n      <td>0</td>\n    </tr>\n    <tr>\n      <th>402</th>\n      <td>0</td>\n      <td>0</td>\n      <td>0</td>\n      <td>0</td>\n      <td>0</td>\n      <td>0</td>\n      <td>0</td>\n      <td>0</td>\n      <td>0</td>\n      <td>0</td>\n      <td>...</td>\n      <td>0</td>\n      <td>0</td>\n      <td>0</td>\n      <td>0</td>\n      <td>0</td>\n      <td>0</td>\n      <td>0</td>\n      <td>0</td>\n      <td>0</td>\n      <td>0</td>\n    </tr>\n    <tr>\n      <th>403</th>\n      <td>0</td>\n      <td>0</td>\n      <td>0</td>\n      <td>0</td>\n      <td>0</td>\n      <td>0</td>\n      <td>0</td>\n      <td>0</td>\n      <td>0</td>\n      <td>0</td>\n      <td>...</td>\n      <td>0</td>\n      <td>0</td>\n      <td>0</td>\n      <td>0</td>\n      <td>0</td>\n      <td>0</td>\n      <td>0</td>\n      <td>0</td>\n      <td>0</td>\n      <td>0</td>\n    </tr>\n  </tbody>\n</table>\n<p>404 rows × 1245 columns</p>\n</div>"
     },
     "execution_count": 38,
     "metadata": {},
     "output_type": "execute_result"
    }
   ],
   "source": [
    "from sklearn.feature_extraction.text import CountVectorizer\n",
    "\n",
    "cv_vec = CountVectorizer(ngram_range=(1, 1),  analyzer='word')\n",
    "X_train_cv = cv_vec.fit_transform(train_final_sample['title']).toarray()\n",
    "\n",
    "X_train_names_cv = pd.DataFrame(X_train_cv, columns=cv_vec.get_feature_names_out())\n",
    "X_train_names_cv"
   ],
   "metadata": {
    "collapsed": false,
    "ExecuteTime": {
     "end_time": "2023-12-02T01:13:20.841436500Z",
     "start_time": "2023-12-02T01:13:20.747957300Z"
    }
   },
   "id": "3df4d010789b063b"
  },
  {
   "cell_type": "code",
   "execution_count": 39,
   "outputs": [
    {
     "data": {
      "text/plain": "   bilha  camp  chuv  comparec  dav  diz  econom  fiemg  forum  ger  min  \\\n0      1     0     1         0    0    1       0      1      0    2    1   \n1      0     1     0         1    1    0       1      0      1    0    0   \n\n   mundial  nao  net  num  perd  pod  \n0        0    0    0    1     1    1  \n1        1    1    1    0     0    0  ",
      "text/html": "<div>\n<style scoped>\n    .dataframe tbody tr th:only-of-type {\n        vertical-align: middle;\n    }\n\n    .dataframe tbody tr th {\n        vertical-align: top;\n    }\n\n    .dataframe thead th {\n        text-align: right;\n    }\n</style>\n<table border=\"1\" class=\"dataframe\">\n  <thead>\n    <tr style=\"text-align: right;\">\n      <th></th>\n      <th>bilha</th>\n      <th>camp</th>\n      <th>chuv</th>\n      <th>comparec</th>\n      <th>dav</th>\n      <th>diz</th>\n      <th>econom</th>\n      <th>fiemg</th>\n      <th>forum</th>\n      <th>ger</th>\n      <th>min</th>\n      <th>mundial</th>\n      <th>nao</th>\n      <th>net</th>\n      <th>num</th>\n      <th>perd</th>\n      <th>pod</th>\n    </tr>\n  </thead>\n  <tbody>\n    <tr>\n      <th>0</th>\n      <td>1</td>\n      <td>0</td>\n      <td>1</td>\n      <td>0</td>\n      <td>0</td>\n      <td>1</td>\n      <td>0</td>\n      <td>1</td>\n      <td>0</td>\n      <td>2</td>\n      <td>1</td>\n      <td>0</td>\n      <td>0</td>\n      <td>0</td>\n      <td>1</td>\n      <td>1</td>\n      <td>1</td>\n    </tr>\n    <tr>\n      <th>1</th>\n      <td>0</td>\n      <td>1</td>\n      <td>0</td>\n      <td>1</td>\n      <td>1</td>\n      <td>0</td>\n      <td>1</td>\n      <td>0</td>\n      <td>1</td>\n      <td>0</td>\n      <td>0</td>\n      <td>1</td>\n      <td>1</td>\n      <td>1</td>\n      <td>0</td>\n      <td>0</td>\n      <td>0</td>\n    </tr>\n  </tbody>\n</table>\n</div>"
     },
     "execution_count": 39,
     "metadata": {},
     "output_type": "execute_result"
    }
   ],
   "source": [
    "X_train_cv_vis = X_train_names_cv.copy()\n",
    "X_train_cv_vis = X_train_cv_vis.loc[0:1]\n",
    "X_train_cv_vis = X_train_cv_vis.replace(0, np.nan).dropna(axis=1, how='all')\n",
    "X_train_cv_vis = X_train_cv_vis.replace(np.nan, 0)\n",
    "X_train_cv_vis.astype(int)"
   ],
   "metadata": {
    "collapsed": false,
    "ExecuteTime": {
     "end_time": "2023-12-02T01:13:21.067806800Z",
     "start_time": "2023-12-02T01:13:20.788270Z"
    }
   },
   "id": "b63e82b0c053de22"
  },
  {
   "cell_type": "markdown",
   "source": [
    "[0] \"Chuvas em Minas Gerais podem gerar perdas de R$ 1,1 bilhão, diz Fiemg\"\n",
    "[1] \"Davos: Campos Neto não comparecerá ao Fórum Econômico Mundial\""
   ],
   "metadata": {
    "collapsed": false
   },
   "id": "eb70c532bf9dfc44"
  },
  {
   "cell_type": "markdown",
   "source": [
    "### TF-IDF Vectorizer (Tipo frequência)"
   ],
   "metadata": {
    "collapsed": false
   },
   "id": "c8903045f7df9afb"
  },
  {
   "cell_type": "code",
   "execution_count": 40,
   "outputs": [
    {
     "data": {
      "text/plain": "     2t20  2t22  3t21  4t19  4t20  4t21   5g  abaix  abastec  abertur  ...  \\\n0     0.0   0.0   0.0   0.0   0.0   0.0  0.0    0.0      0.0      0.0  ...   \n1     0.0   0.0   0.0   0.0   0.0   0.0  0.0    0.0      0.0      0.0  ...   \n2     0.0   0.0   0.0   0.0   0.0   0.0  0.0    0.0      0.0      0.0  ...   \n3     0.0   0.0   0.0   0.0   0.0   0.0  0.0    0.0      0.0      0.0  ...   \n4     0.0   0.0   0.0   0.0   0.0   0.0  0.0    0.0      0.0      0.0  ...   \n..    ...   ...   ...   ...   ...   ...  ...    ...      ...      ...  ...   \n399   0.0   0.0   0.0   0.0   0.0   0.0  0.0    0.0      0.0      0.0  ...   \n400   0.0   0.0   0.0   0.0   0.0   0.0  0.0    0.0      0.0      0.0  ...   \n401   0.0   0.0   0.0   0.0   0.0   0.0  0.0    0.0      0.0      0.0  ...   \n402   0.0   0.0   0.0   0.0   0.0   0.0  0.0    0.0      0.0      0.0  ...   \n403   0.0   0.0   0.0   0.0   0.0   0.0  0.0    0.0      0.0      0.0  ...   \n\n     whatsapp  wirecard  wis  wood   xi   xp  xpbr31  yduq3  yduqs  zon  \n0         0.0       0.0  0.0   0.0  0.0  0.0     0.0    0.0    0.0  0.0  \n1         0.0       0.0  0.0   0.0  0.0  0.0     0.0    0.0    0.0  0.0  \n2         0.0       0.0  0.0   0.0  0.0  0.0     0.0    0.0    0.0  0.0  \n3         0.0       0.0  0.0   0.0  0.0  0.0     0.0    0.0    0.0  0.0  \n4         0.0       0.0  0.0   0.0  0.0  0.0     0.0    0.0    0.0  0.0  \n..        ...       ...  ...   ...  ...  ...     ...    ...    ...  ...  \n399       0.0       0.0  0.0   0.0  0.0  0.0     0.0    0.0    0.0  0.0  \n400       0.0       0.0  0.0   0.0  0.0  0.0     0.0    0.0    0.0  0.0  \n401       0.0       0.0  0.0   0.0  0.0  0.0     0.0    0.0    0.0  0.0  \n402       0.0       0.0  0.0   0.0  0.0  0.0     0.0    0.0    0.0  0.0  \n403       0.0       0.0  0.0   0.0  0.0  0.0     0.0    0.0    0.0  0.0  \n\n[404 rows x 1245 columns]",
      "text/html": "<div>\n<style scoped>\n    .dataframe tbody tr th:only-of-type {\n        vertical-align: middle;\n    }\n\n    .dataframe tbody tr th {\n        vertical-align: top;\n    }\n\n    .dataframe thead th {\n        text-align: right;\n    }\n</style>\n<table border=\"1\" class=\"dataframe\">\n  <thead>\n    <tr style=\"text-align: right;\">\n      <th></th>\n      <th>2t20</th>\n      <th>2t22</th>\n      <th>3t21</th>\n      <th>4t19</th>\n      <th>4t20</th>\n      <th>4t21</th>\n      <th>5g</th>\n      <th>abaix</th>\n      <th>abastec</th>\n      <th>abertur</th>\n      <th>...</th>\n      <th>whatsapp</th>\n      <th>wirecard</th>\n      <th>wis</th>\n      <th>wood</th>\n      <th>xi</th>\n      <th>xp</th>\n      <th>xpbr31</th>\n      <th>yduq3</th>\n      <th>yduqs</th>\n      <th>zon</th>\n    </tr>\n  </thead>\n  <tbody>\n    <tr>\n      <th>0</th>\n      <td>0.0</td>\n      <td>0.0</td>\n      <td>0.0</td>\n      <td>0.0</td>\n      <td>0.0</td>\n      <td>0.0</td>\n      <td>0.0</td>\n      <td>0.0</td>\n      <td>0.0</td>\n      <td>0.0</td>\n      <td>...</td>\n      <td>0.0</td>\n      <td>0.0</td>\n      <td>0.0</td>\n      <td>0.0</td>\n      <td>0.0</td>\n      <td>0.0</td>\n      <td>0.0</td>\n      <td>0.0</td>\n      <td>0.0</td>\n      <td>0.0</td>\n    </tr>\n    <tr>\n      <th>1</th>\n      <td>0.0</td>\n      <td>0.0</td>\n      <td>0.0</td>\n      <td>0.0</td>\n      <td>0.0</td>\n      <td>0.0</td>\n      <td>0.0</td>\n      <td>0.0</td>\n      <td>0.0</td>\n      <td>0.0</td>\n      <td>...</td>\n      <td>0.0</td>\n      <td>0.0</td>\n      <td>0.0</td>\n      <td>0.0</td>\n      <td>0.0</td>\n      <td>0.0</td>\n      <td>0.0</td>\n      <td>0.0</td>\n      <td>0.0</td>\n      <td>0.0</td>\n    </tr>\n    <tr>\n      <th>2</th>\n      <td>0.0</td>\n      <td>0.0</td>\n      <td>0.0</td>\n      <td>0.0</td>\n      <td>0.0</td>\n      <td>0.0</td>\n      <td>0.0</td>\n      <td>0.0</td>\n      <td>0.0</td>\n      <td>0.0</td>\n      <td>...</td>\n      <td>0.0</td>\n      <td>0.0</td>\n      <td>0.0</td>\n      <td>0.0</td>\n      <td>0.0</td>\n      <td>0.0</td>\n      <td>0.0</td>\n      <td>0.0</td>\n      <td>0.0</td>\n      <td>0.0</td>\n    </tr>\n    <tr>\n      <th>3</th>\n      <td>0.0</td>\n      <td>0.0</td>\n      <td>0.0</td>\n      <td>0.0</td>\n      <td>0.0</td>\n      <td>0.0</td>\n      <td>0.0</td>\n      <td>0.0</td>\n      <td>0.0</td>\n      <td>0.0</td>\n      <td>...</td>\n      <td>0.0</td>\n      <td>0.0</td>\n      <td>0.0</td>\n      <td>0.0</td>\n      <td>0.0</td>\n      <td>0.0</td>\n      <td>0.0</td>\n      <td>0.0</td>\n      <td>0.0</td>\n      <td>0.0</td>\n    </tr>\n    <tr>\n      <th>4</th>\n      <td>0.0</td>\n      <td>0.0</td>\n      <td>0.0</td>\n      <td>0.0</td>\n      <td>0.0</td>\n      <td>0.0</td>\n      <td>0.0</td>\n      <td>0.0</td>\n      <td>0.0</td>\n      <td>0.0</td>\n      <td>...</td>\n      <td>0.0</td>\n      <td>0.0</td>\n      <td>0.0</td>\n      <td>0.0</td>\n      <td>0.0</td>\n      <td>0.0</td>\n      <td>0.0</td>\n      <td>0.0</td>\n      <td>0.0</td>\n      <td>0.0</td>\n    </tr>\n    <tr>\n      <th>...</th>\n      <td>...</td>\n      <td>...</td>\n      <td>...</td>\n      <td>...</td>\n      <td>...</td>\n      <td>...</td>\n      <td>...</td>\n      <td>...</td>\n      <td>...</td>\n      <td>...</td>\n      <td>...</td>\n      <td>...</td>\n      <td>...</td>\n      <td>...</td>\n      <td>...</td>\n      <td>...</td>\n      <td>...</td>\n      <td>...</td>\n      <td>...</td>\n      <td>...</td>\n      <td>...</td>\n    </tr>\n    <tr>\n      <th>399</th>\n      <td>0.0</td>\n      <td>0.0</td>\n      <td>0.0</td>\n      <td>0.0</td>\n      <td>0.0</td>\n      <td>0.0</td>\n      <td>0.0</td>\n      <td>0.0</td>\n      <td>0.0</td>\n      <td>0.0</td>\n      <td>...</td>\n      <td>0.0</td>\n      <td>0.0</td>\n      <td>0.0</td>\n      <td>0.0</td>\n      <td>0.0</td>\n      <td>0.0</td>\n      <td>0.0</td>\n      <td>0.0</td>\n      <td>0.0</td>\n      <td>0.0</td>\n    </tr>\n    <tr>\n      <th>400</th>\n      <td>0.0</td>\n      <td>0.0</td>\n      <td>0.0</td>\n      <td>0.0</td>\n      <td>0.0</td>\n      <td>0.0</td>\n      <td>0.0</td>\n      <td>0.0</td>\n      <td>0.0</td>\n      <td>0.0</td>\n      <td>...</td>\n      <td>0.0</td>\n      <td>0.0</td>\n      <td>0.0</td>\n      <td>0.0</td>\n      <td>0.0</td>\n      <td>0.0</td>\n      <td>0.0</td>\n      <td>0.0</td>\n      <td>0.0</td>\n      <td>0.0</td>\n    </tr>\n    <tr>\n      <th>401</th>\n      <td>0.0</td>\n      <td>0.0</td>\n      <td>0.0</td>\n      <td>0.0</td>\n      <td>0.0</td>\n      <td>0.0</td>\n      <td>0.0</td>\n      <td>0.0</td>\n      <td>0.0</td>\n      <td>0.0</td>\n      <td>...</td>\n      <td>0.0</td>\n      <td>0.0</td>\n      <td>0.0</td>\n      <td>0.0</td>\n      <td>0.0</td>\n      <td>0.0</td>\n      <td>0.0</td>\n      <td>0.0</td>\n      <td>0.0</td>\n      <td>0.0</td>\n    </tr>\n    <tr>\n      <th>402</th>\n      <td>0.0</td>\n      <td>0.0</td>\n      <td>0.0</td>\n      <td>0.0</td>\n      <td>0.0</td>\n      <td>0.0</td>\n      <td>0.0</td>\n      <td>0.0</td>\n      <td>0.0</td>\n      <td>0.0</td>\n      <td>...</td>\n      <td>0.0</td>\n      <td>0.0</td>\n      <td>0.0</td>\n      <td>0.0</td>\n      <td>0.0</td>\n      <td>0.0</td>\n      <td>0.0</td>\n      <td>0.0</td>\n      <td>0.0</td>\n      <td>0.0</td>\n    </tr>\n    <tr>\n      <th>403</th>\n      <td>0.0</td>\n      <td>0.0</td>\n      <td>0.0</td>\n      <td>0.0</td>\n      <td>0.0</td>\n      <td>0.0</td>\n      <td>0.0</td>\n      <td>0.0</td>\n      <td>0.0</td>\n      <td>0.0</td>\n      <td>...</td>\n      <td>0.0</td>\n      <td>0.0</td>\n      <td>0.0</td>\n      <td>0.0</td>\n      <td>0.0</td>\n      <td>0.0</td>\n      <td>0.0</td>\n      <td>0.0</td>\n      <td>0.0</td>\n      <td>0.0</td>\n    </tr>\n  </tbody>\n</table>\n<p>404 rows × 1245 columns</p>\n</div>"
     },
     "execution_count": 40,
     "metadata": {},
     "output_type": "execute_result"
    }
   ],
   "source": [
    "from sklearn.feature_extraction.text import TfidfVectorizer\n",
    "\n",
    "tfidf_vec = TfidfVectorizer(ngram_range=(1, 1), analyzer='word')\n",
    "X_train_tfidf = tfidf_vec.fit_transform(train_final_sample['title']).toarray()\n",
    "\n",
    "X_train_names_tfidf = pd.DataFrame(X_train_tfidf, columns=tfidf_vec.get_feature_names_out())\n",
    "X_train_names_tfidf"
   ],
   "metadata": {
    "collapsed": false,
    "ExecuteTime": {
     "end_time": "2023-12-02T01:13:21.178714Z",
     "start_time": "2023-12-02T01:13:21.021172600Z"
    }
   },
   "id": "88ca832a32de3e99"
  },
  {
   "cell_type": "code",
   "execution_count": 41,
   "outputs": [
    {
     "data": {
      "text/plain": "      bilha      camp      chuv  comparec       dav       diz    econom  \\\n0  0.319008  0.000000  0.319008  0.000000  0.000000  0.177897  0.000000   \n1  0.000000  0.299555  0.000000  0.383883  0.383883  0.000000  0.317055   \n\n     fiemg     forum       ger       min   mundial       nao       net  \\\n0  0.35837  0.000000  0.638016  0.261562  0.000000  0.000000  0.000000   \n1  0.00000  0.383883  0.000000  0.000000  0.383883  0.270021  0.383883   \n\n        num      perd       pod  \n0  0.104763  0.306336  0.236842  \n1  0.000000  0.000000  0.000000  ",
      "text/html": "<div>\n<style scoped>\n    .dataframe tbody tr th:only-of-type {\n        vertical-align: middle;\n    }\n\n    .dataframe tbody tr th {\n        vertical-align: top;\n    }\n\n    .dataframe thead th {\n        text-align: right;\n    }\n</style>\n<table border=\"1\" class=\"dataframe\">\n  <thead>\n    <tr style=\"text-align: right;\">\n      <th></th>\n      <th>bilha</th>\n      <th>camp</th>\n      <th>chuv</th>\n      <th>comparec</th>\n      <th>dav</th>\n      <th>diz</th>\n      <th>econom</th>\n      <th>fiemg</th>\n      <th>forum</th>\n      <th>ger</th>\n      <th>min</th>\n      <th>mundial</th>\n      <th>nao</th>\n      <th>net</th>\n      <th>num</th>\n      <th>perd</th>\n      <th>pod</th>\n    </tr>\n  </thead>\n  <tbody>\n    <tr>\n      <th>0</th>\n      <td>0.319008</td>\n      <td>0.000000</td>\n      <td>0.319008</td>\n      <td>0.000000</td>\n      <td>0.000000</td>\n      <td>0.177897</td>\n      <td>0.000000</td>\n      <td>0.35837</td>\n      <td>0.000000</td>\n      <td>0.638016</td>\n      <td>0.261562</td>\n      <td>0.000000</td>\n      <td>0.000000</td>\n      <td>0.000000</td>\n      <td>0.104763</td>\n      <td>0.306336</td>\n      <td>0.236842</td>\n    </tr>\n    <tr>\n      <th>1</th>\n      <td>0.000000</td>\n      <td>0.299555</td>\n      <td>0.000000</td>\n      <td>0.383883</td>\n      <td>0.383883</td>\n      <td>0.000000</td>\n      <td>0.317055</td>\n      <td>0.00000</td>\n      <td>0.383883</td>\n      <td>0.000000</td>\n      <td>0.000000</td>\n      <td>0.383883</td>\n      <td>0.270021</td>\n      <td>0.383883</td>\n      <td>0.000000</td>\n      <td>0.000000</td>\n      <td>0.000000</td>\n    </tr>\n  </tbody>\n</table>\n</div>"
     },
     "execution_count": 41,
     "metadata": {},
     "output_type": "execute_result"
    }
   ],
   "source": [
    "X_train_tfidf_vis = X_train_names_tfidf.copy()\n",
    "X_train_tfidf_vis = X_train_tfidf_vis.loc[0:1]\n",
    "X_train_tfidf_vis = X_train_tfidf_vis.replace(0, np.nan).dropna(axis=1, how='all')\n",
    "X_train_tfidf_vis = X_train_tfidf_vis.replace(np.nan, 0)\n",
    "X_train_tfidf_vis"
   ],
   "metadata": {
    "collapsed": false,
    "ExecuteTime": {
     "end_time": "2023-12-02T01:13:21.216083900Z",
     "start_time": "2023-12-02T01:13:21.101307Z"
    }
   },
   "id": "f45a17c49a879419"
  },
  {
   "cell_type": "markdown",
   "source": [
    "[0] \"Chuvas em Minas Gerais podem gerar perdas de R$ 1,1 bilhão, diz Fiemg\"\n",
    "[1] \"Davos: Campos Neto não comparecerá ao Fórum Econômico Mundial\""
   ],
   "metadata": {
    "collapsed": false
   },
   "id": "befbd0f0a8f68170"
  }
 ],
 "metadata": {
  "kernelspec": {
   "display_name": "Python 3",
   "language": "python",
   "name": "python3"
  },
  "language_info": {
   "codemirror_mode": {
    "name": "ipython",
    "version": 2
   },
   "file_extension": ".py",
   "mimetype": "text/x-python",
   "name": "python",
   "nbconvert_exporter": "python",
   "pygments_lexer": "ipython2",
   "version": "2.7.6"
  }
 },
 "nbformat": 4,
 "nbformat_minor": 5
}
